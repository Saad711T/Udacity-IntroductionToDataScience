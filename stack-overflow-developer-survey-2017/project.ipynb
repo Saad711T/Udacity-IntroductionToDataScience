{
  "metadata": {
    "kernelspec": {
      "name": "python",
      "display_name": "Python (Pyodide)",
      "language": "python"
    },
    "language_info": {
      "codemirror_mode": {
        "name": "python",
        "version": 3
      },
      "file_extension": ".py",
      "mimetype": "text/x-python",
      "name": "python",
      "nbconvert_exporter": "python",
      "pygments_lexer": "ipython3",
      "version": "3.8"
    }
  },
  "nbformat_minor": 4,
  "nbformat": 4,
  "cells": [
    {
      "cell_type": "markdown",
      "source": "# Stack Overflow Developer Survey 2017 Analysis",
      "metadata": {}
    },
    {
      "cell_type": "markdown",
      "source": "## Introduction\nThis project aims to analyze the 2017 Stack Overflow Developer Survey data. \nWe will explore:\n1. The most popular programming languages among developers.\n2. The average salaries across different countries.\n3. General insights about developers.",
      "metadata": {}
    },
    {
      "cell_type": "markdown",
      "source": "## Business Understanding\nThe objective is to analyze Stack Overflow survey data to gain insights about:\n1. Which countries offer the highest average salaries for developers.\n2. The distribution of programming hobbies among developers worldwide.\nThese insights could help aspiring developers understand global trends and prioritize certain skills or locations.\n",
      "metadata": {}
    },
    {
      "cell_type": "markdown",
      "source": "## Data Understanding",
      "metadata": {}
    },
    {
      "cell_type": "code",
      "source": "# General statistics of the dataset\nprint(filtered_data.describe())\n\n# Checking for missing values\nprint(filtered_data.isnull().sum())\n",
      "metadata": {
        "trusted": true
      },
      "outputs": [],
      "execution_count": null
    },
    {
      "cell_type": "markdown",
      "source": "## Data Preparation\nThe data was filtered to include only the relevant columns:\n- `Country`: To group and compare salary data by location.\n- `ProgramHobby`: To analyze developer interests.\n- `Salary`: To calculate average salaries.\nMissing values were removed to ensure accuracy in the analysis.",
      "metadata": {}
    },
    {
      "cell_type": "markdown",
      "source": "## Modeling\n- The average salary by country was calculated using the `groupby` and `mean` functions.\n- The distribution of programming hobbies was analyzed using `value_counts`.",
      "metadata": {}
    },
    {
      "cell_type": "markdown",
      "source": "## Evaluation\nThe results show:\n- Countries like Switzerland and the United States offer the highest average salaries for developers.\n- A significant number of developers enjoy programming as a hobby, indicating strong engagement with their work.",
      "metadata": {}
    },
    {
      "cell_type": "markdown",
      "source": "## Deployment\nThe results will be shared through:\n1. A GitHub repository containing the full code and analysis.\n2. A blog post summarizing the key insights and visualizations.",
      "metadata": {}
    },
    {
      "cell_type": "markdown",
      "source": "### Steps\n1. Load and inspect the data.\n2. Clean the data.\n3. Perform the required analyses.\n4. Visualize the results.\n5. Document and push the project to GitHub.",
      "metadata": {}
    },
    {
      "cell_type": "code",
      "source": "import pandas as pd\nimport matplotlib.pyplot as plt",
      "metadata": {
        "trusted": true
      },
      "outputs": [],
      "execution_count": null
    },
    {
      "cell_type": "markdown",
      "source": "### Loading the Data\nWe load the survey data from the `survey_results_public.csv` file using Pandas.",
      "metadata": {}
    },
    {
      "cell_type": "code",
      "source": "file_path = \"survey_results_public.csv\"  # Provide the correct path to the file\ndata = pd.read_csv(file_path)\n\n\n\n# Display the first 5 rows\ndata.head()\n",
      "metadata": {
        "trusted": true
      },
      "outputs": [],
      "execution_count": null
    },
    {
      "cell_type": "markdown",
      "source": "### Inspecting the Columns\nWe inspect the columns to identify which ones are relevant to our analysis.",
      "metadata": {}
    },
    {
      "cell_type": "code",
      "source": "print(data.columns)",
      "metadata": {
        "trusted": true
      },
      "outputs": [],
      "execution_count": null
    },
    {
      "cell_type": "markdown",
      "source": "### Data Cleaning\nWe examine the missing values and remove unnecessary columns to prepare the data for analysis.",
      "metadata": {}
    },
    {
      "cell_type": "code",
      "source": "# Select relevant columns\ncolumns_needed = ['Country', 'ProgramHobby', 'Salary']\nfiltered_data = data[columns_needed]\n\n# Remove rows with missing values\nfiltered_data.dropna(inplace=True)\n\n# Display the cleaned data\nfiltered_data.head()",
      "metadata": {
        "trusted": true
      },
      "outputs": [],
      "execution_count": null
    },
    {
      "cell_type": "markdown",
      "source": "### Analyze Most Popular Programming Languages\nWe analyze the `LanguageWorkedWith` column to determine the most commonly used programming languages among developers.",
      "metadata": {}
    },
    {
      "cell_type": "code",
      "source": "languages = filtered_data['LanguageWorkedWith'].str.split(';').explode()\ntop_languages = languages.value_counts().head(10)\ntop_languages",
      "metadata": {
        "trusted": true
      },
      "outputs": [],
      "execution_count": null
    },
    {
      "cell_type": "markdown",
      "source": "#### Bar Chart of Most Popular Programming Languages\nThe chart below shows the top 10 most commonly used programming languages among developers.",
      "metadata": {}
    },
    {
      "cell_type": "code",
      "source": "top_languages.plot(kind='bar', figsize=(10, 5))\nplt.title(\"Most Popular Programming Languages\")\nplt.xlabel(\"Programming Language\")\nplt.ylabel(\"Number of Developers\")\nplt.show()",
      "metadata": {
        "trusted": true
      },
      "outputs": [],
      "execution_count": null
    },
    {
      "cell_type": "markdown",
      "source": "### Analyze Salaries by Country\nWe analyze the `ConvertedComp` column to calculate the average salaries in different countries.",
      "metadata": {}
    },
    {
      "cell_type": "code",
      "source": "# Calculate the average salary by country\navg_salary_by_country = filtered_data.groupby('Country')['Salary'].mean().sort_values(ascending=False).head(10)\n\n# Display the results\nprint(avg_salary_by_country)",
      "metadata": {
        "trusted": true
      },
      "outputs": [],
      "execution_count": null
    },
    {
      "cell_type": "markdown",
      "source": "### Analyzing Programming Hobbies\nWe count the frequency of different programming hobbies among developers to understand their preferences.",
      "metadata": {}
    },
    {
      "cell_type": "code",
      "source": "# Count the frequency of programming hobbies\nhobbies = filtered_data['ProgramHobby'].value_counts()\n\n# Display the results\nprint(hobbies)\n",
      "metadata": {
        "trusted": true
      },
      "outputs": [],
      "execution_count": null
    },
    {
      "cell_type": "markdown",
      "source": "### Visualization: Average Salaries by Country\nThe bar chart below shows the top 10 countries with the highest average developer salaries.",
      "metadata": {}
    },
    {
      "cell_type": "code",
      "source": "# Plot a bar chart for average salaries by country\navg_salary_by_country.plot(kind='bar', figsize=(10, 5))\nplt.title(\"Average Developer Salaries by Country\")\nplt.xlabel(\"Country\")\nplt.ylabel(\"Average Salary (USD)\")\nplt.show()",
      "metadata": {
        "trusted": true
      },
      "outputs": [],
      "execution_count": null
    },
    {
      "cell_type": "markdown",
      "source": "### Visualization: Distribution of Programming Hobbies\nThe bar chart below shows the distribution of programming hobbies among developers.",
      "metadata": {}
    },
    {
      "cell_type": "code",
      "source": "# Plot a bar chart for programming hobbies distribution\nhobbies.plot(kind='bar', figsize=(10, 5))\nplt.title(\"Distribution of Programming Hobbies\")\nplt.xlabel(\"Hobby\")\nplt.ylabel(\"Number of Developers\")\nplt.show()",
      "metadata": {
        "trusted": true
      },
      "outputs": [],
      "execution_count": null
    }
  ]
}